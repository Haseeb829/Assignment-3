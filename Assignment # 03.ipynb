{
 "cells": [
  {
   "cell_type": "markdown",
   "id": "bcba9836",
   "metadata": {},
   "source": [
    "# Python Programming Language\n",
    "Assignmnet # 3"
   ]
  },
  {
   "cell_type": "code",
   "execution_count": 2,
   "id": "9980f9e6",
   "metadata": {},
   "outputs": [
    {
     "name": "stdout",
     "output_type": "stream",
     "text": [
      "Twinkle, twinkle, little star,\n",
      "\tHow I wonder what you are!\n",
      "\t\tUp above the world so high,\n",
      "\t\tLike a diamond in the sky.\n",
      "Twinkle, twinkle, little star,\n",
      "\tHow I wonder what you are\n"
     ]
    }
   ],
   "source": [
    "#Write a Python program to print the following string in a specific format (see the\n",
    "#output).\n",
    "#Twinkle, twinkle, little star,\n",
    "\n",
    "#How I wonder what you are!\n",
    "\n",
    "#Up above the world so high,\n",
    "#Like a diamond in the sky.\n",
    "\n",
    "#Twinkle, twinkle, little star,\n",
    "\n",
    "#How I wonder what you are\n",
    "\n",
    "print(\"Twinkle, twinkle, little star,\\n\\tHow I wonder what you are!\\n\\t\\tUp above the world so high,\\n\\t\\tLike a diamond in the sky.\\nTwinkle, twinkle, little star,\\n\\tHow I wonder what you are\")"
   ]
  },
  {
   "cell_type": "code",
   "execution_count": 1,
   "id": "639239f7",
   "metadata": {},
   "outputs": [
    {
     "name": "stdout",
     "output_type": "stream",
     "text": [
      "The Python Version is : 3.8.8 (default, Apr 13 2021, 15:08:03) [MSC v.1916 64 bit (AMD64)]\n"
     ]
    }
   ],
   "source": [
    "#Write a Python program to get the Python version you are using\n",
    "\n",
    "import sys\n",
    "print(\"The Python Version is :\" , sys.version)"
   ]
  },
  {
   "cell_type": "code",
   "execution_count": 2,
   "id": "6a6d16a0",
   "metadata": {},
   "outputs": [
    {
     "name": "stdout",
     "output_type": "stream",
     "text": [
      "The Current Date and Time is : 2021-10-23 14:02:11.195536\n"
     ]
    }
   ],
   "source": [
    "#Write a Python program to display the current date and time\n",
    "import datetime\n",
    "current_date_and_time = datetime.datetime.now()\n",
    "print(\"The Current Date and Time is :\", current_date_and_time)"
   ]
  },
  {
   "cell_type": "code",
   "execution_count": 23,
   "id": "93d2e920",
   "metadata": {},
   "outputs": [
    {
     "name": "stdout",
     "output_type": "stream",
     "text": [
      "Enter the value of Radius of a Circle 6\n",
      "Area of a Circle is : 113.04\n"
     ]
    }
   ],
   "source": [
    "#Write a Python program which accepts the radius of a circle from the user and compute the area.\n",
    "\n",
    "Radius = int(input(\"Enter the value of Radius of a Circle \"))\n",
    "Area = 3.14*(Radius)**2\n",
    "print(\"Area of a Circle is :\" , Area)"
   ]
  },
  {
   "cell_type": "code",
   "execution_count": 4,
   "id": "47fbde30",
   "metadata": {},
   "outputs": [
    {
     "name": "stdout",
     "output_type": "stream",
     "text": [
      "Enter Frist Name Haseeb\n",
      "Enter Last Name Rehman\n",
      "Rehman Haseeb\n"
     ]
    }
   ],
   "source": [
    "#Write a Python program which accepts the user's first and last name and print them in reverse order with a space between them.\n",
    "\n",
    "first_name = input(\"Enter Frist Name \")\n",
    "last_name = input(\"Enter Last Name \")\n",
    "print(last_name , first_name)"
   ]
  },
  {
   "cell_type": "code",
   "execution_count": 13,
   "id": "2d2a0c34",
   "metadata": {},
   "outputs": [
    {
     "name": "stdout",
     "output_type": "stream",
     "text": [
      "Enter first Value 4\n",
      "Enter Second Value 6\n",
      "Addition is : 10\n"
     ]
    }
   ],
   "source": [
    "#Write a python program which takes two inputs from user and print them addition\n",
    "\n",
    "first_value = int(input(\"Enter first Value \"))\n",
    "second_value = int(input(\"Enter Second Value \"))\n",
    "addition = first_value + second_value\n",
    "print(\"Addition is :\" , addition)"
   ]
  },
  {
   "cell_type": "code",
   "execution_count": 20,
   "id": "16e1af94",
   "metadata": {},
   "outputs": [
    {
     "name": "stdout",
     "output_type": "stream",
     "text": [
      "Enter the Marks of English 72\n",
      "Enter the Marks of Islamait 80\n",
      "Enter the Marks of Maths 93\n",
      "Enter the Marks of Science 96\n",
      "Enter the Marks of Urdu 68\n",
      "Total Marks is : 500\n",
      "Obtanied Marks is : 409\n",
      "Your Grade is : A\n",
      "Percentage is : 81.8 %\n"
     ]
    }
   ],
   "source": [
    "#Write a program which takes 5 inputs from user for different subject’s marks, total it and generate mark sheet using grades ? \n",
    "\n",
    "English = int(input(\"Enter the Marks of English \"))\n",
    "Islamiat = int(input(\"Enter the Marks of Islamait \"))\n",
    "Maths = int(input(\"Enter the Marks of Maths \"))\n",
    "Science = int(input(\"Enter the Marks of Science \"))\n",
    "Urdu = int(input(\"Enter the Marks of Urdu \"))\n",
    "\n",
    "Total_Marks = 500\n",
    "\n",
    "Obtained_Marks = English + Islamiat + Maths + Science + Urdu\n",
    "\n",
    "Percentage = ( Obtained_Marks / Total_Marks ) * 100\n",
    "\n",
    "\n",
    "if Percentage < 100 and Percentage >= 90:\n",
    "    Grade = \"A1\"\n",
    "elif Percentage < 90 and Percentage >= 80:\n",
    "    Grade = \"A\"\n",
    "elif Percentage < 80 and Percentage >= 70:\n",
    "    Grade = \"B\"\n",
    "elif Percentage < 70 and Percentage >= 60:\n",
    "    Grade = \"C\"\n",
    "elif Percentage < 60 and Percentage >= 50:\n",
    "    Grade = \"D\"\n",
    "elif Percentage < 50 and Percentage > 40:\n",
    "    Grade = \"E\"\n",
    "else:\n",
    "    Grade = \"F\"\n",
    "    \n",
    "print(\"Total Marks is :\" , Total_Marks)\n",
    "print(\"Obtanied Marks is :\" , Obtained_Marks)\n",
    "print(\"Your Grade is :\" , Grade)\n",
    "print(\"Percentage is :\" , Percentage , \"%\")"
   ]
  },
  {
   "cell_type": "code",
   "execution_count": 14,
   "id": "d2978250",
   "metadata": {},
   "outputs": [
    {
     "name": "stdout",
     "output_type": "stream",
     "text": [
      "Enter the Number 4\n",
      "Number is Even\n"
     ]
    }
   ],
   "source": [
    "#Write a program which take input from user and identify that the given number is even or odd?\n",
    "\n",
    "a = int(input(\"Enter the Number \"))\n",
    "if a % 2 == 0:\n",
    "    print(\"Number is Even\")\n",
    "else:\n",
    "    print(\"Number is odd\")"
   ]
  },
  {
   "cell_type": "code",
   "execution_count": 17,
   "id": "ec1931a8",
   "metadata": {},
   "outputs": [
    {
     "name": "stdout",
     "output_type": "stream",
     "text": [
      "Length of a list is : 6\n"
     ]
    }
   ],
   "source": [
    "#Write a program which print the length of the list?\n",
    "\n",
    "a = [2,4,5,6,7,7]\n",
    "len_a = len(a)\n",
    "print(\"Length of a list is :\" , len_a)"
   ]
  },
  {
   "cell_type": "code",
   "execution_count": 7,
   "id": "f9648fbc",
   "metadata": {},
   "outputs": [
    {
     "name": "stdout",
     "output_type": "stream",
     "text": [
      "Sum of all numeric items in a list is : 85\n"
     ]
    }
   ],
   "source": [
    "#Write a Python program to sum all the numeric items in a list?\n",
    "\n",
    "x = [2,5,6,7,8,54,3]\n",
    "sum_x = sum(x)\n",
    "print(\"Sum of all numeric items in a list is :\" , sum_x)"
   ]
  },
  {
   "cell_type": "code",
   "execution_count": 8,
   "id": "0fe1543c",
   "metadata": {},
   "outputs": [
    {
     "name": "stdout",
     "output_type": "stream",
     "text": [
      "Largest number from a numeric list is : 18\n"
     ]
    }
   ],
   "source": [
    "#Write a Python program to get the largest number from a numeric list.\n",
    "\n",
    "z = [3,8,14,2,6,9,0,18,15,3,4,16]\n",
    "max_z = max(z)\n",
    "print(\"Largest number from a numeric list is :\" , max_z)"
   ]
  },
  {
   "cell_type": "code",
   "execution_count": 19,
   "id": "7d2060d3",
   "metadata": {},
   "outputs": [
    {
     "name": "stdout",
     "output_type": "stream",
     "text": [
      "Elements of the list that are less than 5 is:\n",
      "1\n",
      "1\n",
      "2\n",
      "3\n"
     ]
    }
   ],
   "source": [
    "#Take a list, say for example this one:\n",
    "#a = [1, 1, 2, 3, 5, 8, 13, 21, 34, 55, 89]\n",
    "#Write a program that prints out all the elements of the list that are less than 5.\n",
    "\n",
    "a = [1, 1, 2, 3, 5, 8, 13, 21, 34, 55, 89]\n",
    "print(\"Elements of the list that are less than 5 is:\")\n",
    "for values in a:\n",
    "    if values < 5:\n",
    "        print(values)        "
   ]
  }
 ],
 "metadata": {
  "kernelspec": {
   "display_name": "Python 3",
   "language": "python",
   "name": "python3"
  },
  "language_info": {
   "codemirror_mode": {
    "name": "ipython",
    "version": 3
   },
   "file_extension": ".py",
   "mimetype": "text/x-python",
   "name": "python",
   "nbconvert_exporter": "python",
   "pygments_lexer": "ipython3",
   "version": "3.8.8"
  }
 },
 "nbformat": 4,
 "nbformat_minor": 5
}
